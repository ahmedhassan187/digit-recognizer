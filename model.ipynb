{
 "cells": [
  {
   "attachments": {},
   "cell_type": "markdown",
   "metadata": {},
   "source": [
    "# importing the required libraries and dataset"
   ]
  },
  {
   "cell_type": "code",
   "execution_count": 1,
   "metadata": {},
   "outputs": [],
   "source": [
    "import numpy as np\n",
    "import matplotlib.pyplot as plt\n",
    "import tensorflow as tf\n",
    "import tensorflow.keras.layers as tfl\n",
    "from keras.datasets import mnist\n",
    "import os\n",
    "import cv2\n",
    "from keras.utils import to_categorical\n",
    "from keras.losses import categorical_crossentropy"
   ]
  },
  {
   "attachments": {},
   "cell_type": "markdown",
   "metadata": {},
   "source": [
    "***loading the dataset***\n",
    "\n",
    "```python"
   ]
  },
  {
   "cell_type": "code",
   "execution_count": 2,
   "metadata": {},
   "outputs": [],
   "source": [
    "(train_X, train_y), (test_X, test_y) = mnist.load_data()"
   ]
  },
  {
   "cell_type": "code",
   "execution_count": 3,
   "metadata": {},
   "outputs": [
    {
     "data": {
      "text/plain": [
       "(28, 28)"
      ]
     },
     "execution_count": 3,
     "metadata": {},
     "output_type": "execute_result"
    }
   ],
   "source": [
    "train_X[0].shape"
   ]
  },
  {
   "attachments": {},
   "cell_type": "markdown",
   "metadata": {},
   "source": [
    "**each image is of 28*28 pixels and has 784 features**\n",
    "\n",
    "```python"
   ]
  },
  {
   "attachments": {},
   "cell_type": "markdown",
   "metadata": {},
   "source": [
    "**visulaize one example of the dataset**\n",
    "\n",
    "```python"
   ]
  },
  {
   "cell_type": "code",
   "execution_count": 4,
   "metadata": {},
   "outputs": [
    {
     "data": {
      "text/plain": [
       "<matplotlib.image.AxesImage at 0x25d3911e400>"
      ]
     },
     "execution_count": 4,
     "metadata": {},
     "output_type": "execute_result"
    },
    {
     "data": {
      "image/png": "[encoded data removed]",
      "text/plain": [
       "<Figure size 432x288 with 1 Axes>"
      ]
     },
     "metadata": {
      "needs_background": "light"
     },
     "output_type": "display_data"
    }
   ],
   "source": [
    "plt.imshow(train_X[4],cmap=\"gray\")"
   ]
  },
  {
   "attachments": {},
   "cell_type": "markdown",
   "metadata": {},
   "source": [
    "**then normalize data to get all values between 0 and 1**\n",
    "\n",
    "```python"
   ]
  },
  {
   "cell_type": "code",
   "execution_count": 5,
   "metadata": {},
   "outputs": [],
   "source": [
    "train_X_normed = train_X/255\n",
    "test_X_normed = test_X/255"
   ]
  },
  {
   "attachments": {},
   "cell_type": "markdown",
   "metadata": {},
   "source": [
    "**convert y data to categorical**\n",
    "\n",
    "```python"
   ]
  },
  {
   "cell_type": "code",
   "execution_count": 14,
   "metadata": {},
   "outputs": [],
   "source": [
    "train_y_hot = to_categorical(train_y,10)\n",
    "test_y_hot = to_categorical(test_y,10) "
   ]
  },
  {
   "attachments": {},
   "cell_type": "markdown",
   "metadata": {},
   "source": [
    "**then use tensorflow to build the model architecture**\n",
    "```python"
   ]
  },
  {
   "cell_type": "code",
   "execution_count": 10,
   "metadata": {},
   "outputs": [],
   "source": [
    "Lenet = tf.keras.Sequential([     \n",
    "    tfl.ZeroPadding2D(padding=2,input_shape=(28,28,1)),\n",
    "    tfl.Conv2D(6,5,activation='linear',input_shape=(32,32,1)),\n",
    "    tfl.AveragePooling2D(2,strides=2),\n",
    "    tfl.Conv2D(16,5,activation='linear'),\n",
    "    tfl.AveragePooling2D(2,strides=2),\n",
    "    tfl.Flatten(),\n",
    "    tfl.Dense(120),\n",
    "    tfl.Dense(84),\n",
    "    tfl.Dense(10,activation = 'softmax')\n",
    "])"
   ]
  },
  {
   "attachments": {},
   "cell_type": "markdown",
   "metadata": {},
   "source": [
    "**then here the model summary as we see this architecture has about 61k parameters**\n",
    "\n",
    "```python"
   ]
  },
  {
   "cell_type": "code",
   "execution_count": 11,
   "metadata": {},
   "outputs": [
    {
     "name": "stdout",
     "output_type": "stream",
     "text": [
      "Model: \"sequential_1\"\n",
      "_________________________________________________________________\n",
      " Layer (type)                Output Shape              Param #   \n",
      "=================================================================\n",
      " zero_padding2d_1 (ZeroPaddi  (None, 32, 32, 1)        0         \n",
      " ng2D)                                                           \n",
      "                                                                 \n",
      " conv2d_2 (Conv2D)           (None, 28, 28, 6)         156       \n",
      "                                                                 \n",
      " average_pooling2d_2 (Averag  (None, 14, 14, 6)        0         \n",
      " ePooling2D)                                                     \n",
      "                                                                 \n",
      " conv2d_3 (Conv2D)           (None, 10, 10, 16)        2416      \n",
      "                                                                 \n",
      " average_pooling2d_3 (Averag  (None, 5, 5, 16)         0         \n",
      " ePooling2D)                                                     \n",
      "                                                                 \n",
      " flatten_1 (Flatten)         (None, 400)               0         \n",
      "                                                                 \n",
      " dense_3 (Dense)             (None, 120)               48120     \n",
      "                                                                 \n",
      " dense_4 (Dense)             (None, 84)                10164     \n",
      "                                                                 \n",
      " dense_5 (Dense)             (None, 10)                850       \n",
      "                                                                 \n",
      "=================================================================\n",
      "Total params: 61,706\n",
      "Trainable params: 61,706\n",
      "Non-trainable params: 0\n",
      "_________________________________________________________________\n"
     ]
    }
   ],
   "source": [
    "Lenet.compile(optimizer='adam',\n",
    "                  loss='categorical_crossentropy',\n",
    "                  metrics=['accuracy'])\n",
    "Lenet.summary()"
   ]
  },
  {
   "attachments": {},
   "cell_type": "markdown",
   "metadata": {},
   "source": [
    "**create training and validation sets with batch size 64**\n",
    "\n",
    "```python"
   ]
  },
  {
   "cell_type": "code",
   "execution_count": 15,
   "metadata": {},
   "outputs": [],
   "source": [
    "train_dataset = tf.data.Dataset.from_tensor_slices((train_X_normed,train_y_hot)).batch(64)\n",
    "test_dataset = tf.data.Dataset.from_tensor_slices((test_X_normed, test_y_hot)).batch(64)"
   ]
  },
  {
   "attachments": {},
   "cell_type": "markdown",
   "metadata": {},
   "source": [
    "**start to train model on epochs=20 and save the values of loss and accuracy in history**\n",
    "\n",
    "```python"
   ]
  },
  {
   "cell_type": "code",
   "execution_count": 28,
   "metadata": {},
   "outputs": [
    {
     "name": "stdout",
     "output_type": "stream",
     "text": [
      "Epoch 1/20\n",
      "938/938 [==============================] - 30s 32ms/step - loss: 0.3149 - accuracy: 0.9109 - val_loss: 0.3486 - val_accuracy: 0.8953\n",
      "Epoch 2/20\n",
      "938/938 [==============================] - 27s 29ms/step - loss: 0.3131 - accuracy: 0.9116 - val_loss: 0.3455 - val_accuracy: 0.8970\n",
      "Epoch 3/20\n",
      "938/938 [==============================] - 27s 29ms/step - loss: 0.3114 - accuracy: 0.9119 - val_loss: 0.3421 - val_accuracy: 0.8988\n",
      "Epoch 4/20\n",
      "938/938 [==============================] - 27s 28ms/step - loss: 0.3099 - accuracy: 0.9124 - val_loss: 0.3387 - val_accuracy: 0.9003\n",
      "Epoch 5/20\n",
      "938/938 [==============================] - 27s 28ms/step - loss: 0.3085 - accuracy: 0.9127 - val_loss: 0.3368 - val_accuracy: 0.9010\n",
      "Epoch 6/20\n",
      "938/938 [==============================] - 26s 28ms/step - loss: 0.3073 - accuracy: 0.9132 - val_loss: 0.3367 - val_accuracy: 0.9015\n",
      "Epoch 7/20\n",
      "938/938 [==============================] - 27s 28ms/step - loss: 0.3062 - accuracy: 0.9137 - val_loss: 0.3365 - val_accuracy: 0.9021\n",
      "Epoch 8/20\n",
      "938/938 [==============================] - 26s 28ms/step - loss: 0.3051 - accuracy: 0.9138 - val_loss: 0.3353 - val_accuracy: 0.9024\n",
      "Epoch 9/20\n",
      "938/938 [==============================] - 28s 29ms/step - loss: 0.3040 - accuracy: 0.9143 - val_loss: 0.3340 - val_accuracy: 0.9035\n",
      "Epoch 10/20\n",
      "938/938 [==============================] - 29s 31ms/step - loss: 0.3031 - accuracy: 0.9144 - val_loss: 0.3329 - val_accuracy: 0.9036\n",
      "Epoch 11/20\n",
      "938/938 [==============================] - 33s 36ms/step - loss: 0.3022 - accuracy: 0.9145 - val_loss: 0.3319 - val_accuracy: 0.9042\n",
      "Epoch 12/20\n",
      "938/938 [==============================] - 29s 31ms/step - loss: 0.3014 - accuracy: 0.9150 - val_loss: 0.3311 - val_accuracy: 0.9043\n",
      "Epoch 13/20\n",
      "938/938 [==============================] - 30s 32ms/step - loss: 0.3006 - accuracy: 0.9154 - val_loss: 0.3302 - val_accuracy: 0.9047\n",
      "Epoch 14/20\n",
      "938/938 [==============================] - 29s 31ms/step - loss: 0.2999 - accuracy: 0.9160 - val_loss: 0.3286 - val_accuracy: 0.9055\n",
      "Epoch 15/20\n",
      "938/938 [==============================] - 28s 29ms/step - loss: 0.2992 - accuracy: 0.9162 - val_loss: 0.3269 - val_accuracy: 0.9056\n",
      "Epoch 16/20\n",
      "938/938 [==============================] - 27s 29ms/step - loss: 0.2985 - accuracy: 0.9165 - val_loss: 0.3250 - val_accuracy: 0.9057\n",
      "Epoch 17/20\n",
      "938/938 [==============================] - 26s 27ms/step - loss: 0.2979 - accuracy: 0.9167 - val_loss: 0.3237 - val_accuracy: 0.9061\n",
      "Epoch 18/20\n",
      "938/938 [==============================] - 25s 26ms/step - loss: 0.2973 - accuracy: 0.9168 - val_loss: 0.3222 - val_accuracy: 0.9066\n",
      "Epoch 19/20\n",
      "938/938 [==============================] - 24s 26ms/step - loss: 0.2968 - accuracy: 0.9172 - val_loss: 0.3202 - val_accuracy: 0.9074\n",
      "Epoch 20/20\n",
      "938/938 [==============================] - 27s 29ms/step - loss: 0.2963 - accuracy: 0.9171 - val_loss: 0.3179 - val_accuracy: 0.9083\n"
     ]
    }
   ],
   "source": [
    "history = Lenet.fit(train_dataset,epochs=20,validation_data=test_dataset)"
   ]
  },
  {
   "cell_type": "code",
   "execution_count": 29,
   "metadata": {},
   "outputs": [],
   "source": [
    "import pandas as pd"
   ]
  },
  {
   "attachments": {},
   "cell_type": "markdown",
   "metadata": {},
   "source": [
    "**convert history variable to dataframe to visualize it**\n",
    "\n",
    "```python"
   ]
  },
  {
   "cell_type": "code",
   "execution_count": 30,
   "metadata": {},
   "outputs": [],
   "source": [
    "df = pd.DataFrame(history.history)"
   ]
  },
  {
   "cell_type": "code",
   "execution_count": 31,
   "metadata": {},
   "outputs": [
    {
     "data": {
      "text/html": [
       "<div>\n",
       "<style scoped>\n",
       "    .dataframe tbody tr th:only-of-type {\n",
       "        vertical-align: middle;\n",
       "    }\n",
       "\n",
       "    .dataframe tbody tr th {\n",
       "        vertical-align: top;\n",
       "    }\n",
       "\n",
       "    .dataframe thead th {\n",
       "        text-align: right;\n",
       "    }\n",
       "</style>\n",
       "<table border=\"1\" class=\"dataframe\">\n",
       "  <thead>\n",
       "    <tr style=\"text-align: right;\">\n",
       "      <th></th>\n",
       "      <th>loss</th>\n",
       "      <th>accuracy</th>\n",
       "      <th>val_loss</th>\n",
       "      <th>val_accuracy</th>\n",
       "    </tr>\n",
       "  </thead>\n",
       "  <tbody>\n",
       "    <tr>\n",
       "      <th>0</th>\n",
       "      <td>0.314924</td>\n",
       "      <td>0.910933</td>\n",
       "      <td>0.348564</td>\n",
       "      <td>0.8953</td>\n",
       "    </tr>\n",
       "    <tr>\n",
       "      <th>1</th>\n",
       "      <td>0.313100</td>\n",
       "      <td>0.911567</td>\n",
       "      <td>0.345458</td>\n",
       "      <td>0.8970</td>\n",
       "    </tr>\n",
       "    <tr>\n",
       "      <th>2</th>\n",
       "      <td>0.311432</td>\n",
       "      <td>0.911900</td>\n",
       "      <td>0.342122</td>\n",
       "      <td>0.8988</td>\n",
       "    </tr>\n",
       "    <tr>\n",
       "      <th>3</th>\n",
       "      <td>0.309895</td>\n",
       "      <td>0.912383</td>\n",
       "      <td>0.338691</td>\n",
       "      <td>0.9003</td>\n",
       "    </tr>\n",
       "    <tr>\n",
       "      <th>4</th>\n",
       "      <td>0.308524</td>\n",
       "      <td>0.912733</td>\n",
       "      <td>0.336771</td>\n",
       "      <td>0.9010</td>\n",
       "    </tr>\n",
       "  </tbody>\n",
       "</table>\n",
       "</div>"
      ],
      "text/plain": [
       "       loss  accuracy  val_loss  val_accuracy\n",
       "0  0.314924  0.910933  0.348564        0.8953\n",
       "1  0.313100  0.911567  0.345458        0.8970\n",
       "2  0.311432  0.911900  0.342122        0.8988\n",
       "3  0.309895  0.912383  0.338691        0.9003\n",
       "4  0.308524  0.912733  0.336771        0.9010"
      ]
     },
     "execution_count": 31,
     "metadata": {},
     "output_type": "execute_result"
    }
   ],
   "source": [
    "df.head()"
   ]
  },
  {
   "cell_type": "code",
   "execution_count": 32,
   "metadata": {},
   "outputs": [
    {
     "data": {
      "text/plain": [
       "<matplotlib.legend.Legend at 0x25d5a014190>"
      ]
     },
     "execution_count": 32,
     "metadata": {},
     "output_type": "execute_result"
    },
    {
     "data": {
      "image/png": "[encoded data removed]",
      "text/plain": [
       "<Figure size 432x288 with 1 Axes>"
      ]
     },
     "metadata": {
      "needs_background": "light"
     },
     "output_type": "display_data"
    }
   ],
   "source": [
    "plt.plot(df['loss'],label=\"training loss\")\n",
    "plt.plot(df['val_loss'],label=\"validation loss\")\n",
    "plt.xlabel('epochs')\n",
    "plt.ylabel('Loss')\n",
    "plt.title('Training Loss curve')\n",
    "plt.legend()"
   ]
  },
  {
   "cell_type": "code",
   "execution_count": 33,
   "metadata": {},
   "outputs": [
    {
     "data": {
      "text/plain": [
       "<matplotlib.legend.Legend at 0x25d56163be0>"
      ]
     },
     "execution_count": 33,
     "metadata": {},
     "output_type": "execute_result"
    },
    {
     "data": {
      "image/png": "[encoded data removed]",
      "text/plain": [
       "<Figure size 432x288 with 1 Axes>"
      ]
     },
     "metadata": {
      "needs_background": "light"
     },
     "output_type": "display_data"
    }
   ],
   "source": [
    "plt.plot(df['accuracy'],label=\"training accuracy\")\n",
    "plt.plot(df['val_accuracy'],label=\"validation accuracy\")\n",
    "plt.xlabel('epochs')\n",
    "plt.ylabel('Loss')\n",
    "plt.title('Training accuracy curve')\n",
    "plt.legend()"
   ]
  },
  {
   "attachments": {},
   "cell_type": "markdown",
   "metadata": {},
   "source": [
    "**saving model in h5 format**"
   ]
  },
  {
   "cell_type": "code",
   "execution_count": 51,
   "metadata": {},
   "outputs": [],
   "source": [
    "Lenet.save('./model_weights/model.h5')"
   ]
  },
  {
   "attachments": {},
   "cell_type": "markdown",
   "metadata": {},
   "source": [
    "**predict on the visualization image**\n",
    "\n",
    "```python"
   ]
  },
  {
   "cell_type": "code",
   "execution_count": 55,
   "metadata": {},
   "outputs": [
    {
     "name": "stdout",
     "output_type": "stream",
     "text": [
      "1/1 [==============================] - 0s 76ms/step\n",
      "9\n"
     ]
    }
   ],
   "source": [
    "predict_example = train_X_normed[4].reshape(1,28,28,1)\n",
    "pre = Lenet.predict(predict_example)\n",
    "print(np.argmax(pre))"
   ]
  },
  {
   "attachments": {},
   "cell_type": "markdown",
   "metadata": {},
   "source": [
    "**another example of prediction**\n",
    "\n",
    "```python"
   ]
  },
  {
   "cell_type": "code",
   "execution_count": 56,
   "metadata": {},
   "outputs": [
    {
     "data": {
      "text/plain": [
       "<matplotlib.image.AxesImage at 0x25d5d89c5e0>"
      ]
     },
     "execution_count": 56,
     "metadata": {},
     "output_type": "execute_result"
    },
    {
     "data": {
      "image/png": "[encoded data removed]",
      "text/plain": [
       "<Figure size 432x288 with 1 Axes>"
      ]
     },
     "metadata": {
      "needs_background": "light"
     },
     "output_type": "display_data"
    }
   ],
   "source": [
    "plt.imshow(train_X[20],cmap=\"gray\")"
   ]
  },
  {
   "cell_type": "code",
   "execution_count": 58,
   "metadata": {},
   "outputs": [
    {
     "name": "stdout",
     "output_type": "stream",
     "text": [
      "1/1 [==============================] - 0s 87ms/step\n",
      "4\n"
     ]
    }
   ],
   "source": [
    "predict_example = train_X_normed[20].reshape(1,28,28,1)\n",
    "pre = Lenet.predict(predict_example)\n",
    "print(np.argmax(pre))"
   ]
  }
 ],
 "metadata": {
  "kernelspec": {
   "display_name": "Python 3",
   "language": "python",
   "name": "python3"
  },
  "language_info": {
   "codemirror_mode": {
    "name": "ipython",
    "version": 3
   },
   "file_extension": ".py",
   "mimetype": "text/x-python",
   "name": "python",
   "nbconvert_exporter": "python",
   "pygments_lexer": "ipython3",
   "version": "3.8.3"
  },
  "orig_nbformat": 4
 },
 "nbformat": 4,
 "nbformat_minor": 2
}
